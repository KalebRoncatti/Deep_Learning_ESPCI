{
 "cells": [
  {
   "cell_type": "markdown",
   "metadata": {},
   "source": [
    "# Overview \n",
    "During this course, we will mainly use 3 python modules: \n",
    "- **numpy** (basic matrix operation in python), \n",
    "- **matplotlib** (to make nice figures and plots in python), \n",
    "- **pytorch** (deep learning module)\n",
    "\n",
    "With this notebook, we will focus on numpy and matplotlib. \n"
   ]
  },
  {
   "cell_type": "markdown",
   "metadata": {},
   "source": [
    "#  Preliminary : Notebooks\n",
    "\n",
    "In this course, most of the lab sessions will use jupyter-notebook. \n",
    " \n",
    "\n",
    "Concerning the notebooks, you need to know that:\n",
    "- It's a set of cells, each cell has its type. **Markdown** is for text (like this one) and **code** is for python (like the next one). \n",
    "- A markdown cell can be executed to get a nice display of its content. \n",
    "- A code cell can be executed and the result (the std-output and std-err) follows the cell. \n",
    "- Cells are easy to create, delete, split, move and execute. \n",
    "- You can execute the cells in the order you want, but the consistency relies on you. \n",
    "- To help you, on the left of each code cell, it is writte, depending on what you have done so far: \n",
    "    - \"In [    ]\" : the cell has not been ran yet\n",
    "    - \"In [ 3 ]\" : this is the 3rd cell you ran\n",
    "    - \"In [ \\* ]\" : this cell is running\n",
    "    \n",
    "Behind every notebook runs a kernel (a python interpreter). When you run a code cell, that code is executed within the kernel and any output is returned back to the cell to be displayed. The kernel’s state persists over time and between cells — it pertains to the document as a whole and not individual cells.\n",
    "\n",
    "[This page](https://guides.github.com/features/mastering-markdown/) provides an overview of Markdown and its main features. \n",
    "\n",
    "Be sure, you understand the user-interface of the notebook. For instance, go through [this page](https://www.dataquest.io/blog/jupyter-notebook-tutorial/) and make sure to know how to : \n",
    "- create/insert a markdown cell and a code cell\n",
    "- edit and run them\n",
    "- move a cell up and down \n",
    "- delete and split a cell\n",
    "- merge cells \n",
    "\n",
    "## Good practice\n",
    "\n",
    "Using notebooks allows us to take note and to code within the same interface. It is also a nice framework to learn, to experiment and to write experimental study. The provided notebooks are therefore just a *starting document* and now play with it, transform it, write code and take notes. \n",
    "\n",
    "However, it is important to remember to code nicely in python. While this programming language enables flexibility,  the coding style is important to ensure efficiency:  \n",
    "- use explicit names for variables and functions;\n",
    "- all numerical values must be stored in variables;\n",
    "- define function whenever it is useful (don't be lazy);\n",
    "- **Document** your code with useful **comments** ! It is mandatory for functions \n",
    "\n"
   ]
  },
  {
   "cell_type": "markdown",
   "metadata": {},
   "source": [
    "## Help \n",
    "\n",
    "For help, you can use the help function for a type or a method. "
   ]
  },
  {
   "cell_type": "code",
   "execution_count": 29,
   "metadata": {},
   "outputs": [
    {
     "name": "stdout",
     "output_type": "stream",
     "text": [
      "Help on built-in function append:\n",
      "\n",
      "append(...) method of builtins.list instance\n",
      "    L.append(object) -> None -- append object to end\n",
      "\n"
     ]
    },
    {
     "ename": "TypeError",
     "evalue": "append() takes exactly one argument (0 given)",
     "output_type": "error",
     "traceback": [
      "\u001b[1;31m---------------------------------------------------------------------------\u001b[0m",
      "\u001b[1;31mTypeError\u001b[0m                                 Traceback (most recent call last)",
      "\u001b[1;32m<ipython-input-29-4fea347c9972>\u001b[0m in \u001b[0;36m<module>\u001b[1;34m\u001b[0m\n\u001b[0;32m      2\u001b[0m \u001b[0mhelp\u001b[0m\u001b[1;33m(\u001b[0m\u001b[0ma\u001b[0m\u001b[1;33m.\u001b[0m\u001b[0mappend\u001b[0m\u001b[1;33m)\u001b[0m \u001b[1;31m# provides help for the method append of the class list\u001b[0m\u001b[1;33m\u001b[0m\u001b[1;33m\u001b[0m\u001b[0m\n\u001b[0;32m      3\u001b[0m \u001b[1;31m# Try help(a)\u001b[0m\u001b[1;33m\u001b[0m\u001b[1;33m\u001b[0m\u001b[1;33m\u001b[0m\u001b[0m\n\u001b[1;32m----> 4\u001b[1;33m \u001b[0ma\u001b[0m\u001b[1;33m.\u001b[0m\u001b[0mappend\u001b[0m\u001b[1;33m(\u001b[0m\u001b[1;33m)\u001b[0m\u001b[1;33m\u001b[0m\u001b[1;33m\u001b[0m\u001b[0m\n\u001b[0m",
      "\u001b[1;31mTypeError\u001b[0m: append() takes exactly one argument (0 given)"
     ]
    }
   ],
   "source": [
    "a = list()\n",
    "help(a.append) # provides help for the method append of the class list\n",
    "# Try help(a)\n",
    "a.append()\n"
   ]
  },
  {
   "cell_type": "markdown",
   "metadata": {},
   "source": [
    "However remember that you can use the completion with the **tab** key. You can also prompt help when typing with the combined keys **shift+tab**. \n",
    "\n",
    "# NumPy (for matlab users)\n",
    "\n",
    "**NumPy** and SciPy are designed to do numerical and scientific computing in the most natural way with Python, not to mimic MATLAB. However, they share a lot things, with some differences. The most important ones are the following.  \n",
    "\n",
    "## Data type\n",
    "In MATLAB, the basic data type is a multidimensional array of double precision floating point numbers. Most expressions take and return such arrays. Operations on the 2-D instances of these arrays are designed to act more or less like matrix operations in linear algebra. \t\n",
    "\n",
    "**In NumPy** the basic type is a multidimensional array. Operations on these arrays in all dimensionalities including 2D are element-wise operations. By default, the *float* and *int* are coded on 64 bits. Note you can specify the data-type with dtype. One needs to use specific functions for linear algebra (though for matrix multiplication, one can use the @ operator since python 3.5).\n",
    "\n"
   ]
  },
  {
   "cell_type": "code",
   "execution_count": 30,
   "metadata": {},
   "outputs": [],
   "source": [
    "# Start with import. \n",
    "import numpy as np\n"
   ]
  },
  {
   "cell_type": "markdown",
   "metadata": {},
   "source": [
    "## Indexing and view \n",
    "\n",
    "MATLAB uses 1 (*one*) based indexing. The first element of a sequence is  a(1). Python uses 0 (*zero*) based indexing, and the first element is a[0]. Furthermore in NumPy, arrays have pass-by-reference semantics. Slice operations are views into an array.\n"
   ]
  },
  {
   "cell_type": "code",
   "execution_count": 31,
   "metadata": {},
   "outputs": [
    {
     "name": "stdout",
     "output_type": "stream",
     "text": [
      "matrix a =\n",
      " [[1. 1. 1. 1.]\n",
      " [1. 1. 1. 1.]\n",
      " [1. 1. 1. 1.]] \n",
      " - of type  float64 \n",
      " - of dimensions  (3, 4)\n",
      "matrix a =\n",
      " [[1 1]\n",
      " [1 1]\n",
      " [1 1]] \n",
      " - of type  int32 \n",
      " - of dimensions  (3, 2)\n",
      "matrix b =\n",
      " [[4.17022005e-01 7.20324493e-01]\n",
      " [1.14374817e-04 3.02332573e-01]\n",
      " [1.46755891e-01 9.23385948e-02]] \n",
      " - of type  float64 \n",
      " - of dimensions  (3, 2)\n",
      "element-wise multiplication:\n",
      " [[4.17022005e-01 7.20324493e-01]\n",
      " [1.14374817e-04 3.02332573e-01]\n",
      " [1.46755891e-01 9.23385948e-02]]\n",
      "matrix multiplication:\n",
      " [[1.1373465  0.30244695 0.23909449]\n",
      " [1.1373465  0.30244695 0.23909449]\n",
      " [1.1373465  0.30244695 0.23909449]]\n",
      "c =\n",
      " [[1.14374817e-04 3.02332573e-01]\n",
      " [1.46755891e-01 9.23385948e-02]]\n",
      "b =\n",
      " [[4.17022005e-01 7.20324493e-01]\n",
      " [9.99900000e+03 3.02332573e-01]\n",
      " [1.46755891e-01 9.23385948e-02]]\n",
      "d =\n",
      " [0.14675589 0.09233859]\n"
     ]
    }
   ],
   "source": [
    "np.random.seed(1) # to get everytime the same results\n",
    "# array creation \n",
    "a = np.ones((3,4),dtype=np.float)\n",
    "print(\"matrix a =\\n\", a , \"\\n - of type \", \n",
    "      a.dtype, \"\\n - of dimensions \" ,a.shape)\n",
    "# You can use the automatic completion to see all the available float type\n",
    "# Try with integers: \n",
    "a = np.ones((3,2),dtype=np.int)\n",
    "print(\"matrix a =\\n\", a , \"\\n - of type \", \n",
    "      a.dtype, \"\\n - of dimensions \" ,a.shape)\n",
    "# Creation of a random matrix\n",
    "b = np.random.rand(3,2)\n",
    "print(\"matrix b =\\n\", b , \"\\n - of type \", \n",
    "      b.dtype, \"\\n - of dimensions \" ,b.shape)\n",
    "\n",
    "print(\"element-wise multiplication:\\n\",a*b) # equivalent np.multiply(a,b)\n",
    "print(\"matrix multiplication:\\n\", a@b.T) #  a.dot(b.T) and np.dot(a,b.T)\n",
    "# Why do we need to transpose b in the last operation ? Try a@b ? \n",
    "\n",
    "\n",
    "# slicing is only a view : c is a view on the data of b\n",
    "c = b[1:3,:]                                             #takes row 1 until 3, and take all columns\n",
    "print(\"c =\\n\", c) \n",
    "c[0,0] = 9999\n",
    "print(\"b =\\n\", b)\n",
    "# We can use negative index in python \n",
    "d = b[-1,:]\n",
    "print(\"d =\\n\",d)"
   ]
  },
  {
   "cell_type": "markdown",
   "metadata": {},
   "source": [
    "Useful information about a numpy array are : \n",
    "- the shape and dtype (attributes)\n",
    "- np.ndim(a) or a.ndim: get the number of dimensions of an array\n",
    "- np.size(a) or a.size: get the number of elements of an array\n",
    "- or call np.info on a variable to get (almost) everything\n",
    "- reminder: test the python functions *type*, *id* \n"
   ]
  },
  {
   "cell_type": "code",
   "execution_count": 32,
   "metadata": {},
   "outputs": [
    {
     "name": "stdout",
     "output_type": "stream",
     "text": [
      "class:  ndarray\n",
      "shape:  (4, 4)\n",
      "strides:  (32, 8)\n",
      "itemsize:  8\n",
      "aligned:  True\n",
      "contiguous:  True\n",
      "fortran:  False\n",
      "data pointer: 0x1db18a3a890\n",
      "byteorder:  little\n",
      "byteswap:  False\n",
      "type: float64\n",
      "[[-1.          0.          0.          0.        ]\n",
      " [ 0.         -0.33333333  0.          0.        ]\n",
      " [ 0.          0.          0.33333333  0.        ]\n",
      " [ 0.          0.          0.          1.        ]]\n",
      "*** ids :  2040575510928 2040575510928\n",
      "[[ 2.          0.          0.          0.        ]\n",
      " [ 0.         -0.33333333  0.          0.        ]\n",
      " [ 0.          0.          0.33333333  0.        ]\n",
      " [ 0.          0.          0.          1.        ]]\n"
     ]
    }
   ],
   "source": [
    "a= np.diag(np.linspace(-1,1,4))\n",
    "np.info(a)\n",
    "print(a)\n",
    "b = a \n",
    "b[0,0] = 2\n",
    "print(\"*** ids : \", id(a),id(b))\n",
    "print(a)"
   ]
  },
  {
   "cell_type": "markdown",
   "metadata": {},
   "source": [
    "## Function template \n",
    "\n",
    "Here you can find a template for functions. The function itself is not interesting, but syntax is important: \n",
    "- The \"header\" of a definition starts with **def**, followed by the name of the function (*sumOfOddTerms* in our case) and a list of the arguments (here only one argument,*m*, is passed to the function). The header ends with **:** and the body of the function is indented. \n",
    "- The special comments between 3 double quotes (\"\"\" the special comment\"\"\") is important ! It follows the header. More than a string with many lines, its text is used for further help. At least, describe the inputs and outputs of the function. \n",
    "- The name must be as explicit as possible. \n",
    "- The *return* statement allows your function to return an object. By default it is None. \n"
   ]
  },
  {
   "cell_type": "code",
   "execution_count": 43,
   "metadata": {},
   "outputs": [],
   "source": [
    "def sumOfOddTerms(m):\n",
    "    \"\"\"\n",
    "    This function compute the sum of the odd terms in the matrix m\n",
    "    \n",
    "    input: \n",
    "        - m is numpy array of integers (np.int64)\n",
    "    returns: \n",
    "        - an int: the sum of odd terms in m\n",
    "    \"\"\"\n",
    "    assert(m.dtype == np.int64) # check the input\n",
    "    return m[m%2==1].sum()\n",
    "    \n"
   ]
  },
  {
   "cell_type": "markdown",
   "metadata": {},
   "source": [
    "Always test your function. Here is a minimum example: "
   ]
  },
  {
   "cell_type": "code",
   "execution_count": 47,
   "metadata": {},
   "outputs": [
    {
     "name": "stdout",
     "output_type": "stream",
     "text": [
      "[[ -1   6   2 -13  15]\n",
      " [ 14  16  16  12  -1]\n",
      " [-17   4  -1  17  10]\n",
      " [ 18  19 -15  -5   3]\n",
      " [ 12 -10 -18   4  14]]\n",
      "sum of odd terms:  1\n",
      "Help on function sumOfOddTerms in module __main__:\n",
      "\n",
      "sumOfOddTerms(m)\n",
      "    This function compute the sum of the odd terms in the matrix m\n",
      "    \n",
      "    input: \n",
      "        - m is numpy array of integers (np.int64)\n",
      "    returns: \n",
      "        - an int: the sum of odd terms in m\n",
      "\n"
     ]
    }
   ],
   "source": [
    "a = np.random.randint(-20,20,(5,5),dtype=np.int64) #bizarro, precisamos forçar o bagulho a se tornar um inteiro\n",
    "b = np.zeros(9,dtype=np.int64)\n",
    "print(a)\n",
    "print(\"sum of odd terms: \",sumOfOddTerms(a))\n",
    "help(sumOfOddTerms)"
   ]
  },
  {
   "cell_type": "markdown",
   "metadata": {},
   "source": [
    "A function can work *in-place*. In the following example, the function set to zero all the odd numbers of a matrix given as argument. Moreover, a function can have several arguments. "
   ]
  },
  {
   "cell_type": "code",
   "execution_count": 48,
   "metadata": {},
   "outputs": [],
   "source": [
    "def zeroOddTerms(m, even = False): \n",
    "    \"\"\"\n",
    "    Set to zero the odd terms of a matrix m \n",
    "    If the argument even is et to True, this is the opposite: the even terms are set to zero\n",
    "    \n",
    "    input: \n",
    "        - m is numpy array of integers (np.int64)\n",
    "    returns: \n",
    "        - None, the matrix m is modified\n",
    "    \"\"\"\n",
    "    if even is True: \n",
    "        m[m%2==0] = 0 # um pouco burrice, precisamos mudar even para True para zerar os termos pares (even)\n",
    "    else : # the default case, set odd terms to 0\n",
    "        m[m%2==1] = 0\n"
   ]
  },
  {
   "cell_type": "code",
   "execution_count": 51,
   "metadata": {},
   "outputs": [
    {
     "name": "stdout",
     "output_type": "stream",
     "text": [
      "[[  9  16  -4   7 -12]\n",
      " [  8 -18  15  -7  16]\n",
      " [ 16  -2  13  18   5]\n",
      " [ 19  17 -18  14   8]\n",
      " [ -6  -9   6   1  -4]]\n",
      "None\n",
      "[[  0  16  -4   0 -12]\n",
      " [  8 -18   0   0  16]\n",
      " [ 16  -2   0  18   0]\n",
      " [  0   0 -18  14   8]\n",
      " [ -6   0   6   0  -4]]\n",
      "********************\n",
      "[[  8  17  -9   2 -14]\n",
      " [ 12  -6  16   3  -9]\n",
      " [ 15  12   7  18 -20]\n",
      " [  2  13 -14  16  -2]\n",
      " [  7   8  17  18  10]]\n",
      "None\n",
      "[[ 0 17 -9  0  0]\n",
      " [ 0  0  0  3 -9]\n",
      " [15  0  7  0  0]\n",
      " [ 0 13  0  0  0]\n",
      " [ 7  0 17  0  0]]\n"
     ]
    }
   ],
   "source": [
    "a = np.random.randint(-20,20,(5,5))\n",
    "print(a)\n",
    "print(zeroOddTerms(a))\n",
    "print(a)\n",
    "print (\"********************\")\n",
    "a = np.random.randint(-20,20,(5,5))\n",
    "print(a)\n",
    "# when you call a function, it can be more readable \n",
    "# if some args are explicitely named. \n",
    "print(zeroOddTerms(a,even=True)) \n",
    "print(a)"
   ]
  },
  {
   "cell_type": "markdown",
   "metadata": {},
   "source": [
    "Finally a function can return several objects as a tuple. "
   ]
  },
  {
   "cell_type": "code",
   "execution_count": 52,
   "metadata": {},
   "outputs": [],
   "source": [
    "def separateOddAndEven(m): \n",
    "    \"\"\"\n",
    "    Create two matrices, one with the odd terms, and the other with the even terms. \n",
    "    \n",
    "    input: \n",
    "        - m is numpy array of integers (np.int64)\n",
    "    returns: \n",
    "        - Two arrays of the same size as m the input. \n",
    "          The first contains the odd terms (the even ones are set to 0) \n",
    "          and the second is the opposite. \n",
    "    \"\"\"\n",
    "    oddPart  = np.copy(m)\n",
    "    oddPart[oddPart%2==0]=0\n",
    "    evenPart  = np.copy(m)\n",
    "    evenPart[evenPart%2==1]=0\n",
    "    return oddPart, evenPart"
   ]
  },
  {
   "cell_type": "code",
   "execution_count": 53,
   "metadata": {},
   "outputs": [
    {
     "name": "stdout",
     "output_type": "stream",
     "text": [
      "[[-13   1  -4  19   9]\n",
      " [ -9  -6  10 -12  10]\n",
      " [  3 -18   8 -20  19]\n",
      " [ -8  -3  13 -10   8]\n",
      " [ -9 -15  -3 -15   2]]\n",
      "odd part :\n",
      " [[-13   1   0  19   9]\n",
      " [ -9   0   0   0   0]\n",
      " [  3   0   0   0  19]\n",
      " [  0  -3  13   0   0]\n",
      " [ -9 -15  -3 -15   0]]\n",
      "even part:\n",
      " [[  0   0  -4   0   0]\n",
      " [  0  -6  10 -12  10]\n",
      " [  0 -18   8 -20   0]\n",
      " [ -8   0   0 -10   8]\n",
      " [  0   0   0   0   2]]\n",
      "putting everything together:\n",
      " [[-13   1  -4  19   9]\n",
      " [ -9  -6  10 -12  10]\n",
      " [  3 -18   8 -20  19]\n",
      " [ -8  -3  13 -10   8]\n",
      " [ -9 -15  -3 -15   2]]\n"
     ]
    }
   ],
   "source": [
    "a = np.random.randint(-20,20,(5,5))\n",
    "print(a)\n",
    "oa, ea = separateOddAndEven(a)\n",
    "print(\"odd part :\\n\",oa)\n",
    "print(\"even part:\\n\",ea)\n",
    "print(\"putting everything together:\\n\", oa+ea)"
   ]
  },
  {
   "cell_type": "markdown",
   "metadata": {},
   "source": [
    "## Summary \n",
    "[This page](http://mathesaurus.sourceforge.net/matlab-numpy.html) summarizes the link from matlab to numpy, if you need. \n",
    "\n",
    "\n",
    "\n",
    "# Matplotlib — Data Visualization in Python\n",
    "    \n",
    "The second module is matplotlib,  one of the most popular data visualization library in Python. \n",
    "\n",
    "## Basics \n",
    "There are two key components in a plot:  a Figure and Axes. The Figure is the top level container that acts as the window or page on which everything is drawn. It can contain multiple independent figures, multiple Axes, a subtitle (which is a centered title for the figure), a legend, a color bar, etc.\n",
    "\n",
    "The Axes is the area on which we plot our data and any labels/ticks associated with it. Each Axes has an X-Axis and a Y-Axis\n",
    "\n",
    "\n"
   ]
  },
  {
   "cell_type": "code",
   "execution_count": 54,
   "metadata": {},
   "outputs": [],
   "source": [
    "import matplotlib.pyplot as plt "
   ]
  },
  {
   "cell_type": "markdown",
   "metadata": {},
   "source": [
    "In a Jupyter notebook we can easily display plots using: "
   ]
  },
  {
   "cell_type": "code",
   "execution_count": 55,
   "metadata": {},
   "outputs": [],
   "source": [
    "%matplotlib inline"
   ]
  },
  {
   "cell_type": "markdown",
   "metadata": {},
   "source": [
    "However, if you’re using Matplotlib from within a Python script, you have to add plt.show() method inside the file to be able display your plot. \n",
    "\n",
    "Aside comment: The code lines starting by **%** are built-in magic commands of ipython. This is not important for today. Someday, look at [this page](https://ipython.readthedocs.io/en/stable/interactive/magics.html) to see all you can do or specify. \n",
    "\n",
    "Let start, by creating a 2D data set and plotting it. "
   ]
  },
  {
   "cell_type": "code",
   "execution_count": 57,
   "metadata": {},
   "outputs": [
    {
     "name": "stdout",
     "output_type": "stream",
     "text": [
      "[ 0.          0.52631579  1.05263158  1.57894737  2.10526316  2.63157895\n",
      "  3.15789474  3.68421053  4.21052632  4.73684211  5.26315789  5.78947368\n",
      "  6.31578947  6.84210526  7.36842105  7.89473684  8.42105263  8.94736842\n",
      "  9.47368421 10.        ]\n"
     ]
    },
    {
     "data": {
      "text/plain": [
       "[<matplotlib.lines.Line2D at 0x1db1cc00668>]"
      ]
     },
     "execution_count": 57,
     "metadata": {},
     "output_type": "execute_result"
    },
    {
     "data": {
      "image/png": "[encoded data removed]",
      "text/plain": [
       "<Figure size 432x288 with 1 Axes>"
      ]
     },
     "metadata": {
      "needs_background": "light"
     },
     "output_type": "display_data"
    }
   ],
   "source": [
    "x = np.linspace(0,10,20)\n",
    "print(x)\n",
    "y = x**2\n",
    "plt.plot(x,y)"
   ]
  },
  {
   "cell_type": "markdown",
   "metadata": {},
   "source": [
    "Now that we have a plot, let’s go on to name the x-axis, y-axis, and add a title using .xlabel(), .ylabel() and .title(). \n"
   ]
  },
  {
   "cell_type": "code",
   "execution_count": 63,
   "metadata": {},
   "outputs": [
    {
     "data": {
      "text/plain": [
       "Text(0.5, 1.0, 'Xablau')"
      ]
     },
     "execution_count": 63,
     "metadata": {},
     "output_type": "execute_result"
    },
    {
     "data": {
      "image/png": "[encoded data removed]",
      "text/plain": [
       "<Figure size 432x288 with 1 Axes>"
      ]
     },
     "metadata": {
      "needs_background": "light"
     },
     "output_type": "display_data"
    }
   ],
   "source": [
    "plt.plot(x,y,\"pink\")\n",
    "plt.xlabel(\"fancy x\")\n",
    "plt.ylabel(\"something different for y\")\n",
    "plt.title(\"Xablau\")"
   ]
  },
  {
   "cell_type": "markdown",
   "metadata": {},
   "source": [
    "Note, each call work on the same figure. At any time you can clean the figure with plt.clf() or display the figure and clear it with plt.show() \n",
    "\n",
    "** Questions: **\n",
    "- Create 2 functions to plot, one in red, one in blue.\n",
    "- Create a single Figure with these two plots\n",
    "- And two figures with these two plots\n",
    "- Plot a single figure focusing on (0,10) for the x-axis (0,30) for the y-axis. \n",
    "All figures must have labels and titles. \n"
   ]
  },
  {
   "cell_type": "code",
   "execution_count": 68,
   "metadata": {},
   "outputs": [
    {
     "data": {
      "text/plain": [
       "[<matplotlib.lines.Line2D at 0x1db1dffd828>,\n",
       " <matplotlib.lines.Line2D at 0x1db1dffd978>]"
      ]
     },
     "execution_count": 68,
     "metadata": {},
     "output_type": "execute_result"
    },
    {
     "data": {
      "image/png": "[encoded data removed]",
      "text/plain": [
       "<Figure size 432x288 with 1 Axes>"
      ]
     },
     "metadata": {
      "needs_background": "light"
     },
     "output_type": "display_data"
    }
   ],
   "source": [
    "x=np.linspace(0,2,20)\n",
    "y=x**5\n",
    "y1=x**3\n",
    "plt.plot(x,y,'green',x,y1,'black')\n",
    "\n",
    "\n"
   ]
  },
  {
   "cell_type": "markdown",
   "metadata": {},
   "source": [
    "## Subplot \n",
    "\n",
    "If you want to plot different figures on the same canvas, matplotlib allows you to easily create multi-plots on the same figure using the *.subplot()* method. This method takes 3 parameters:\n",
    "- nrows: the number of rows the Figure should have.\n",
    "- ncols: the number of columns the Figure should have.\n",
    "- plot_number : which refers to a specific plot in the Figure.\n",
    "\n",
    "For instance: \n"
   ]
  },
  {
   "cell_type": "code",
   "execution_count": 71,
   "metadata": {},
   "outputs": [
    {
     "data": {
      "text/plain": [
       "[<matplotlib.lines.Line2D at 0x1db1e1c3048>]"
      ]
     },
     "execution_count": 71,
     "metadata": {},
     "output_type": "execute_result"
    },
    {
     "data": {
      "image/png": "[encoded data removed]",
      "text/plain": [
       "<Figure size 432x288 with 2 Axes>"
      ]
     },
     "metadata": {
      "needs_background": "light"
     },
     "output_type": "display_data"
    }
   ],
   "source": [
    "plt.subplot(1,2,1)\n",
    "plt.plot(x,y,\"red\")\n",
    "plt.subplot(1,2,2)\n",
    "plt.plot(y,x,\"blue\")\n"
   ]
  },
  {
   "cell_type": "markdown",
   "metadata": {},
   "source": [
    "## Playing with styles \n",
    "\n",
    "- [To see all the markers](https://matplotlib.org/api/markers_api.html)\n",
    "- [For the colors](https://matplotlib.org/api/colors_api.html)\n",
    "\n",
    "Here is an example: \n"
   ]
  },
  {
   "cell_type": "code",
   "execution_count": 72,
   "metadata": {
    "scrolled": true
   },
   "outputs": [
    {
     "data": {
      "image/png": "[encoded data removed]",
      "text/plain": [
       "<Figure size 432x288 with 6 Axes>"
      ]
     },
     "metadata": {
      "needs_background": "light"
     },
     "output_type": "display_data"
    }
   ],
   "source": [
    "styles = [\"ro\", \"g+\", \"b.\", \"k-\", \"y^\", \"ms\"]\n",
    "for i in range(len(styles)): \n",
    "    plt.subplot(3,2,i+1)\n",
    "    plt.plot(x,((-1)**i)*y,styles[i])\n"
   ]
  },
  {
   "cell_type": "code",
   "execution_count": 73,
   "metadata": {},
   "outputs": [
    {
     "data": {
      "text/plain": [
       "[<matplotlib.lines.Line2D at 0x1db1e3efc18>]"
      ]
     },
     "execution_count": 73,
     "metadata": {},
     "output_type": "execute_result"
    },
    {
     "data": {
      "image/png": "[encoded data removed]",
      "text/plain": [
       "<Figure size 432x288 with 1 Axes>"
      ]
     },
     "metadata": {
      "needs_background": "light"
     },
     "output_type": "display_data"
    }
   ],
   "source": [
    "# more explicitely : \n",
    "plt.plot(x,y, linestyle = \" \", marker = 'o', c = 'lime',  markersize = 10)\n",
    "plt.plot(x,y*0.5, linestyle = \"-\", marker = 'o', c = 'orange',  markersize = 5)\n"
   ]
  },
  {
   "cell_type": "markdown",
   "metadata": {},
   "source": [
    "Matplotlib allows us create customized plots by specifying the figure size, aspect ratio, and DPI by simply specifying the figsize and dpi arguments. The figsize is a tuple of the width and height of the figure (in inches), and dpi is the dots-per-inch (pixel-per-inch).\n",
    "\n",
    "\n",
    "**Question:** make a  figure with width=8, height=2, and dpi=100"
   ]
  },
  {
   "cell_type": "code",
   "execution_count": 84,
   "metadata": {},
   "outputs": [
    {
     "data": {
      "image/png": "[encoded data removed]",
      "text/plain": [
       "<Figure size 432x288 with 1 Axes>"
      ]
     },
     "metadata": {
      "needs_background": "light"
     },
     "output_type": "display_data"
    }
   ],
   "source": [
    "# TODO : write your code here (and remove this comment)\n",
    "plt.plot(x,y, linestyle = \" \", marker = 'o', c = 'lime',  markersize = 10)\n",
    "# FAZER EM CASA\n",
    "\n",
    "# At the end if you want to save the figure\n",
    "plt.savefig(\"./toto.png\", format=\"png\")\n",
    "# For more details try help(plt.savefig)\n"
   ]
  },
  {
   "cell_type": "markdown",
   "metadata": {},
   "source": [
    "# A toy dataset\n",
    "\n",
    "Here is a dataset used during courses."
   ]
  },
  {
   "cell_type": "code",
   "execution_count": 99,
   "metadata": {},
   "outputs": [
    {
     "name": "stdout",
     "output_type": "stream",
     "text": [
      "[[17.  12.  13.  15.  15.  20.  20.   4.   7.5 10.  11.   5.   5.   6. ]\n",
      " [10.  12.  14.  15.  20.  15.  20.   8.   5.   0.   5.   0.  10.   6. ]]\n",
      "*********************\n",
      "[1. 1. 1. 1. 1. 1. 1. 0. 0. 0. 0. 0. 0. 0.]\n"
     ]
    }
   ],
   "source": [
    "ST1 = np.array([[17.0 ,12 ,13 ,15 ,15 ,20 ,20],[ 10 ,12 ,14 ,15 ,20 ,15 ,20]]) # class 1 \n",
    "ST2 = np.array([4, 7.5, 10 ,11, 5 ,5 ,6, 8, 5, 0, 5, 0, 10, 6]).reshape(2,7) # class 2 \n",
    "X = np.concatenate((ST1,ST2),axis=1)\n",
    "print(X)\n",
    "Y = np.ones(14)\n",
    "print('*********************')\n",
    "Y[7:] = 0\n",
    "print(Y)"
   ]
  },
  {
   "cell_type": "markdown",
   "metadata": {},
   "source": [
    "**Questions (read until the end to follow the guidelines):**\n",
    "- plot the dataset as a scatter plot, with the first half in green and the second in red\n",
    "- Wrap this code in a  function in which you can tune the styles for each half and set the span of the view\n",
    "- Write a function that draws a line given its parameters on a specified region of the space. \n",
    "     "
   ]
  },
  {
   "cell_type": "code",
   "execution_count": 105,
   "metadata": {},
   "outputs": [
    {
     "ename": "ValueError",
     "evalue": "x and y must have same first dimension, but have shapes (2, 7) and (5,)",
     "output_type": "error",
     "traceback": [
      "\u001b[1;31m---------------------------------------------------------------------------\u001b[0m",
      "\u001b[1;31mValueError\u001b[0m                                Traceback (most recent call last)",
      "\u001b[1;32m<ipython-input-105-d43d735ae332>\u001b[0m in \u001b[0;36m<module>\u001b[1;34m\u001b[0m\n\u001b[0;32m      1\u001b[0m \u001b[1;31m# TODO : write your code here (and remove this comment)\u001b[0m\u001b[1;33m\u001b[0m\u001b[1;33m\u001b[0m\u001b[1;33m\u001b[0m\u001b[0m\n\u001b[1;32m----> 2\u001b[1;33m \u001b[0mplt\u001b[0m\u001b[1;33m.\u001b[0m\u001b[0mplot\u001b[0m\u001b[1;33m(\u001b[0m\u001b[0mST1\u001b[0m\u001b[1;33m,\u001b[0m\u001b[0mY\u001b[0m\u001b[1;33m[\u001b[0m\u001b[1;36m1\u001b[0m\u001b[1;33m:\u001b[0m\u001b[1;36m6\u001b[0m\u001b[1;33m]\u001b[0m\u001b[1;33m,\u001b[0m \u001b[0mlinestyle\u001b[0m \u001b[1;33m=\u001b[0m \u001b[1;34m\" \"\u001b[0m\u001b[1;33m,\u001b[0m \u001b[0mmarker\u001b[0m \u001b[1;33m=\u001b[0m \u001b[1;34m'o'\u001b[0m\u001b[1;33m,\u001b[0m \u001b[0mc\u001b[0m \u001b[1;33m=\u001b[0m \u001b[1;34m'lime'\u001b[0m\u001b[1;33m,\u001b[0m  \u001b[0mmarkersize\u001b[0m \u001b[1;33m=\u001b[0m \u001b[1;36m10\u001b[0m\u001b[1;33m)\u001b[0m\u001b[1;33m\u001b[0m\u001b[1;33m\u001b[0m\u001b[0m\n\u001b[0m\u001b[0;32m      3\u001b[0m \u001b[1;31m#FAZER DPS\u001b[0m\u001b[1;33m\u001b[0m\u001b[1;33m\u001b[0m\u001b[1;33m\u001b[0m\u001b[0m\n",
      "\u001b[1;32m~\\Anaconda3\\lib\\site-packages\\matplotlib\\pyplot.py\u001b[0m in \u001b[0;36mplot\u001b[1;34m(scalex, scaley, data, *args, **kwargs)\u001b[0m\n\u001b[0;32m   2793\u001b[0m     return gca().plot(\n\u001b[0;32m   2794\u001b[0m         *args, scalex=scalex, scaley=scaley, **({\"data\": data} if data\n\u001b[1;32m-> 2795\u001b[1;33m         is not None else {}), **kwargs)\n\u001b[0m\u001b[0;32m   2796\u001b[0m \u001b[1;33m\u001b[0m\u001b[0m\n\u001b[0;32m   2797\u001b[0m \u001b[1;33m\u001b[0m\u001b[0m\n",
      "\u001b[1;32m~\\Anaconda3\\lib\\site-packages\\matplotlib\\axes\\_axes.py\u001b[0m in \u001b[0;36mplot\u001b[1;34m(self, scalex, scaley, data, *args, **kwargs)\u001b[0m\n\u001b[0;32m   1664\u001b[0m         \"\"\"\n\u001b[0;32m   1665\u001b[0m         \u001b[0mkwargs\u001b[0m \u001b[1;33m=\u001b[0m \u001b[0mcbook\u001b[0m\u001b[1;33m.\u001b[0m\u001b[0mnormalize_kwargs\u001b[0m\u001b[1;33m(\u001b[0m\u001b[0mkwargs\u001b[0m\u001b[1;33m,\u001b[0m \u001b[0mmlines\u001b[0m\u001b[1;33m.\u001b[0m\u001b[0mLine2D\u001b[0m\u001b[1;33m.\u001b[0m\u001b[0m_alias_map\u001b[0m\u001b[1;33m)\u001b[0m\u001b[1;33m\u001b[0m\u001b[1;33m\u001b[0m\u001b[0m\n\u001b[1;32m-> 1666\u001b[1;33m         \u001b[0mlines\u001b[0m \u001b[1;33m=\u001b[0m \u001b[1;33m[\u001b[0m\u001b[1;33m*\u001b[0m\u001b[0mself\u001b[0m\u001b[1;33m.\u001b[0m\u001b[0m_get_lines\u001b[0m\u001b[1;33m(\u001b[0m\u001b[1;33m*\u001b[0m\u001b[0margs\u001b[0m\u001b[1;33m,\u001b[0m \u001b[0mdata\u001b[0m\u001b[1;33m=\u001b[0m\u001b[0mdata\u001b[0m\u001b[1;33m,\u001b[0m \u001b[1;33m**\u001b[0m\u001b[0mkwargs\u001b[0m\u001b[1;33m)\u001b[0m\u001b[1;33m]\u001b[0m\u001b[1;33m\u001b[0m\u001b[1;33m\u001b[0m\u001b[0m\n\u001b[0m\u001b[0;32m   1667\u001b[0m         \u001b[1;32mfor\u001b[0m \u001b[0mline\u001b[0m \u001b[1;32min\u001b[0m \u001b[0mlines\u001b[0m\u001b[1;33m:\u001b[0m\u001b[1;33m\u001b[0m\u001b[1;33m\u001b[0m\u001b[0m\n\u001b[0;32m   1668\u001b[0m             \u001b[0mself\u001b[0m\u001b[1;33m.\u001b[0m\u001b[0madd_line\u001b[0m\u001b[1;33m(\u001b[0m\u001b[0mline\u001b[0m\u001b[1;33m)\u001b[0m\u001b[1;33m\u001b[0m\u001b[1;33m\u001b[0m\u001b[0m\n",
      "\u001b[1;32m~\\Anaconda3\\lib\\site-packages\\matplotlib\\axes\\_base.py\u001b[0m in \u001b[0;36m__call__\u001b[1;34m(self, *args, **kwargs)\u001b[0m\n\u001b[0;32m    223\u001b[0m                 \u001b[0mthis\u001b[0m \u001b[1;33m+=\u001b[0m \u001b[0margs\u001b[0m\u001b[1;33m[\u001b[0m\u001b[1;36m0\u001b[0m\u001b[1;33m]\u001b[0m\u001b[1;33m,\u001b[0m\u001b[1;33m\u001b[0m\u001b[1;33m\u001b[0m\u001b[0m\n\u001b[0;32m    224\u001b[0m                 \u001b[0margs\u001b[0m \u001b[1;33m=\u001b[0m \u001b[0margs\u001b[0m\u001b[1;33m[\u001b[0m\u001b[1;36m1\u001b[0m\u001b[1;33m:\u001b[0m\u001b[1;33m]\u001b[0m\u001b[1;33m\u001b[0m\u001b[1;33m\u001b[0m\u001b[0m\n\u001b[1;32m--> 225\u001b[1;33m             \u001b[1;32myield\u001b[0m \u001b[1;32mfrom\u001b[0m \u001b[0mself\u001b[0m\u001b[1;33m.\u001b[0m\u001b[0m_plot_args\u001b[0m\u001b[1;33m(\u001b[0m\u001b[0mthis\u001b[0m\u001b[1;33m,\u001b[0m \u001b[0mkwargs\u001b[0m\u001b[1;33m)\u001b[0m\u001b[1;33m\u001b[0m\u001b[1;33m\u001b[0m\u001b[0m\n\u001b[0m\u001b[0;32m    226\u001b[0m \u001b[1;33m\u001b[0m\u001b[0m\n\u001b[0;32m    227\u001b[0m     \u001b[1;32mdef\u001b[0m \u001b[0mget_next_color\u001b[0m\u001b[1;33m(\u001b[0m\u001b[0mself\u001b[0m\u001b[1;33m)\u001b[0m\u001b[1;33m:\u001b[0m\u001b[1;33m\u001b[0m\u001b[1;33m\u001b[0m\u001b[0m\n",
      "\u001b[1;32m~\\Anaconda3\\lib\\site-packages\\matplotlib\\axes\\_base.py\u001b[0m in \u001b[0;36m_plot_args\u001b[1;34m(self, tup, kwargs)\u001b[0m\n\u001b[0;32m    389\u001b[0m             \u001b[0mx\u001b[0m\u001b[1;33m,\u001b[0m \u001b[0my\u001b[0m \u001b[1;33m=\u001b[0m \u001b[0mindex_of\u001b[0m\u001b[1;33m(\u001b[0m\u001b[0mtup\u001b[0m\u001b[1;33m[\u001b[0m\u001b[1;33m-\u001b[0m\u001b[1;36m1\u001b[0m\u001b[1;33m]\u001b[0m\u001b[1;33m)\u001b[0m\u001b[1;33m\u001b[0m\u001b[1;33m\u001b[0m\u001b[0m\n\u001b[0;32m    390\u001b[0m \u001b[1;33m\u001b[0m\u001b[0m\n\u001b[1;32m--> 391\u001b[1;33m         \u001b[0mx\u001b[0m\u001b[1;33m,\u001b[0m \u001b[0my\u001b[0m \u001b[1;33m=\u001b[0m \u001b[0mself\u001b[0m\u001b[1;33m.\u001b[0m\u001b[0m_xy_from_xy\u001b[0m\u001b[1;33m(\u001b[0m\u001b[0mx\u001b[0m\u001b[1;33m,\u001b[0m \u001b[0my\u001b[0m\u001b[1;33m)\u001b[0m\u001b[1;33m\u001b[0m\u001b[1;33m\u001b[0m\u001b[0m\n\u001b[0m\u001b[0;32m    392\u001b[0m \u001b[1;33m\u001b[0m\u001b[0m\n\u001b[0;32m    393\u001b[0m         \u001b[1;32mif\u001b[0m \u001b[0mself\u001b[0m\u001b[1;33m.\u001b[0m\u001b[0mcommand\u001b[0m \u001b[1;33m==\u001b[0m \u001b[1;34m'plot'\u001b[0m\u001b[1;33m:\u001b[0m\u001b[1;33m\u001b[0m\u001b[1;33m\u001b[0m\u001b[0m\n",
      "\u001b[1;32m~\\Anaconda3\\lib\\site-packages\\matplotlib\\axes\\_base.py\u001b[0m in \u001b[0;36m_xy_from_xy\u001b[1;34m(self, x, y)\u001b[0m\n\u001b[0;32m    268\u001b[0m         \u001b[1;32mif\u001b[0m \u001b[0mx\u001b[0m\u001b[1;33m.\u001b[0m\u001b[0mshape\u001b[0m\u001b[1;33m[\u001b[0m\u001b[1;36m0\u001b[0m\u001b[1;33m]\u001b[0m \u001b[1;33m!=\u001b[0m \u001b[0my\u001b[0m\u001b[1;33m.\u001b[0m\u001b[0mshape\u001b[0m\u001b[1;33m[\u001b[0m\u001b[1;36m0\u001b[0m\u001b[1;33m]\u001b[0m\u001b[1;33m:\u001b[0m\u001b[1;33m\u001b[0m\u001b[1;33m\u001b[0m\u001b[0m\n\u001b[0;32m    269\u001b[0m             raise ValueError(\"x and y must have same first dimension, but \"\n\u001b[1;32m--> 270\u001b[1;33m                              \"have shapes {} and {}\".format(x.shape, y.shape))\n\u001b[0m\u001b[0;32m    271\u001b[0m         \u001b[1;32mif\u001b[0m \u001b[0mx\u001b[0m\u001b[1;33m.\u001b[0m\u001b[0mndim\u001b[0m \u001b[1;33m>\u001b[0m \u001b[1;36m2\u001b[0m \u001b[1;32mor\u001b[0m \u001b[0my\u001b[0m\u001b[1;33m.\u001b[0m\u001b[0mndim\u001b[0m \u001b[1;33m>\u001b[0m \u001b[1;36m2\u001b[0m\u001b[1;33m:\u001b[0m\u001b[1;33m\u001b[0m\u001b[1;33m\u001b[0m\u001b[0m\n\u001b[0;32m    272\u001b[0m             raise ValueError(\"x and y can be no greater than 2-D, but have \"\n",
      "\u001b[1;31mValueError\u001b[0m: x and y must have same first dimension, but have shapes (2, 7) and (5,)"
     ]
    },
    {
     "data": {
      "image/png": "[encoded data removed]",
      "text/plain": [
       "<Figure size 432x288 with 1 Axes>"
      ]
     },
     "metadata": {
      "needs_background": "light"
     },
     "output_type": "display_data"
    }
   ],
   "source": [
    "# TODO : write your code here (and remove this comment)\n",
    "plt.plot(ST1,Y[1:6], linestyle = \" \", marker = 'o', c = 'lime',  markersize = 10)\n",
    "#FAZER DPS"
   ]
  },
  {
   "cell_type": "markdown",
   "metadata": {},
   "source": [
    "### Good practice (one more): comment function\n",
    "\n",
    "When you write a similar code many times, wrap it in a function. To make it useful, spend some time to comment the code. For example : \n"
   ]
  },
  {
   "cell_type": "code",
   "execution_count": 89,
   "metadata": {},
   "outputs": [],
   "source": [
    "def plot2DBinaryDataSet(D1, D2, xmin, xmax, ymin, ymax,st1='go',st2=\"ro\"):\n",
    "        \"\"\"Plot a dataset made of 2D points. \n",
    "        The dataset is provided in 2 parts for the 2 classes: D1 and D2\n",
    "        Args: \n",
    "            - D1: numpy array of size (2,N), N the number of points in the 1st class\n",
    "            - D2: numpy array of size (2,M), M the number of points in the 2nd class\n",
    "            - xmin,xmax,ymin,ymax : numbers to define the plot domain\n",
    "            - st1 and st2: resp. the style for class 1 and 2\n",
    "        \n",
    "        Return: \n",
    "            None\n",
    "        \n",
    "        Assume : import matplotlib.pyplot as plt\n",
    "        Here you can describe a bit more the function, how you code it \n",
    "        and the important assumptions, limitations, ... \n",
    "        \"\"\"\n",
    "        # Create the axis: \n",
    "        plt.axis([xmin,xmax,ymin,ymax])\n",
    "        # TODO : finish the function \n",
    "  "
   ]
  },
  {
   "cell_type": "code",
   "execution_count": 90,
   "metadata": {},
   "outputs": [
    {
     "name": "stdout",
     "output_type": "stream",
     "text": [
      "Help on function plot2DBinaryDataSet in module __main__:\n",
      "\n",
      "plot2DBinaryDataSet(D1, D2, xmin, xmax, ymin, ymax, st1='go', st2='ro')\n",
      "    Plot a dataset made of 2D points. \n",
      "    The dataset is provided in 2 parts for the 2 classes: D1 and D2\n",
      "    Args: \n",
      "        - D1: numpy array of size (2,N), N the number of points in the 1st class\n",
      "        - D2: numpy array of size (2,M), M the number of points in the 2nd class\n",
      "        - xmin,xmax,ymin,ymax : numbers to define the plot domain\n",
      "        - st1 and st2: resp. the style for class 1 and 2\n",
      "    \n",
      "    Return: \n",
      "        None\n",
      "    \n",
      "    Assume : import matplotlib.pyplot as plt\n",
      "    Here you can describe a bit more the function, how you code it \n",
      "    and the important assumptions, limitations, ...\n",
      "\n"
     ]
    }
   ],
   "source": [
    "help(plot2DBinaryDataSet)"
   ]
  },
  {
   "cell_type": "code",
   "execution_count": 91,
   "metadata": {},
   "outputs": [
    {
     "data": {
      "image/png": "[encoded data removed]",
      "text/plain": [
       "<Figure size 432x288 with 1 Axes>"
      ]
     },
     "metadata": {
      "needs_background": "light"
     },
     "output_type": "display_data"
    }
   ],
   "source": [
    "plot2DBinaryDataSet(X[:,:7],X[:,7:],xmin=-1,xmax=21, ymin=-1,ymax=21)\n"
   ]
  },
  {
   "cell_type": "markdown",
   "metadata": {},
   "source": [
    "**Question:** In the last call of *plot2DBinaryDataSet*, I know that the first seven points are \"good\" and the 7 last points are \"bad\".  To be more general and robust, how can I access to the points of each class using the variable Y to get the same plot ? "
   ]
  },
  {
   "cell_type": "code",
   "execution_count": null,
   "metadata": {
    "collapsed": true
   },
   "outputs": [],
   "source": [
    "# TODO : write your code here (and remove this comment)\n"
   ]
  },
  {
   "cell_type": "code",
   "execution_count": 110,
   "metadata": {},
   "outputs": [],
   "source": [
    "def plotLine(u,b,xmin, xmax, ymin, ymax, linestyle = \"-\", color=\"k\" ):\n",
    "    \"\"\"Plot a line in the \"box\" defined by xmin, xmax, ymin, ymax\n",
    "    \n",
    "    Args: \n",
    "        - u : The line is defined by its normal vector u, a numpy array of size 2\n",
    "        - b : the constant term\n",
    "        - the \"box\" is defined by xmin, xmax, ymin, ymax\n",
    "        \n",
    "    The line has the equation:     u[0]*x + u[1]*y + b = 0 \n",
    "    \"\"\"\n",
    "    if u[1]==0:\n",
    "        x=-b/u[0]\n",
    "        plt.plot([x,x],[ymin,ymax])\n",
    "    else:\n",
    "        y1=(-b-u[0]*xmin)/u[1]\n",
    "        y2=(-b-u[0]*xmax)/u[1]\n",
    "        plt.plot([xmin,xmax],[y1,y2])\n",
    "        plt.axis([xmin,xmax,ymin,ymax])\n",
    "    "
   ]
  },
  {
   "cell_type": "code",
   "execution_count": null,
   "metadata": {
    "collapsed": true
   },
   "outputs": [],
   "source": [
    "help(plotLine)"
   ]
  },
  {
   "cell_type": "code",
   "execution_count": 111,
   "metadata": {},
   "outputs": [
    {
     "data": {
      "image/png": "[encoded data removed]",
      "text/plain": [
       "<Figure size 432x288 with 1 Axes>"
      ]
     },
     "metadata": {
      "needs_background": "light"
     },
     "output_type": "display_data"
    }
   ],
   "source": [
    "plotLine([2,0],5,1,10,-4,0)"
   ]
  }
 ],
 "metadata": {
  "anaconda-cloud": {},
  "kernelspec": {
   "display_name": "Python 3",
   "language": "python",
   "name": "python3"
  },
  "language_info": {
   "codemirror_mode": {
    "name": "ipython",
    "version": 3
   },
   "file_extension": ".py",
   "mimetype": "text/x-python",
   "name": "python",
   "nbconvert_exporter": "python",
   "pygments_lexer": "ipython3",
   "version": "3.7.6"
  }
 },
 "nbformat": 4,
 "nbformat_minor": 1
}
